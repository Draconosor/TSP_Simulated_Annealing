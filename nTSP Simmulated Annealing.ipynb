{
 "cells": [
  {
   "attachments": {},
   "cell_type": "markdown",
   "metadata": {},
   "source": [
    "Import libraries and set PyPlot Standarts for Dynamic Plotting"
   ]
  },
  {
   "cell_type": "code",
   "execution_count": null,
   "metadata": {},
   "outputs": [],
   "source": [
    "%matplotlib\n",
    "from matplotlib import pyplot as plt\n",
    "plt.style.use('seaborn-whitegrid')\n",
    "plt.rcParams.update({'font.size': 9})\n",
    "plt.ion()\n",
    "\n",
    "import numpy as np\n",
    "import pandas as pd\n",
    "\n",
    "def custom_plot(title: str, route: [str], nodes: pd.DataFrame):\n",
    "    '''\n",
    "    Plots a given solution of the TSP\n",
    "    '''\n",
    "    plt.figure(title)\n",
    "    plt.title(title)\n",
    "    plt.scatter(nodes.loc['Node 0', 'X'], nodes.loc['Node 0', 'Y'], c = 'Red', label = 'Node 0')\n",
    "    plt.scatter(nodes.loc['Node 1':, 'X'], nodes.loc['Node 1':,'Y'], c = 'Blue', label = 'Nodes to visit')\n",
    "    plt.plot(nodes.loc[route, 'X'], nodes.loc[route, 'Y'])\n",
    "\n",
    "canvas, ax = plt.subplots(num = 'Dynamic Graphic')\n",
    "current, = ax.plot(0,0)\n",
    "\n",
    "def dynamic_plot(iteration: int, route: [str], nodes: pd.DataFrame, canvas = canvas, axis = ax, current = current):\n",
    "    '''\n",
    "    Updates a Dynamic Plot where the progress of the algorithm is shown\n",
    "    '''\n",
    "    axis.set_title('Iteration ' + str(iteration))\n",
    "    canvas.canvas.flush_events()\n",
    "    if iteration == 1:\n",
    "        axis.scatter(nodes.loc['Node 0', 'X'], nodes.loc['Node 0', 'Y'], c = 'Red', label = 'Node 0')\n",
    "        axis.scatter(nodes.loc['Node 1':, 'X'], nodes.loc['Node 1':,'Y'], c = 'Blue', label = 'Nodes to visit')\n",
    "    current.set_xdata(nodes.loc[route, 'X'])\n",
    "    current.set_ydata(nodes.loc[route, 'Y'])\n",
    "    canvas.canvas.draw()"
   ]
  },
  {
   "attachments": {},
   "cell_type": "markdown",
   "metadata": {},
   "source": [
    "Establish dataset generation functions"
   ]
  },
  {
   "cell_type": "code",
   "execution_count": null,
   "metadata": {},
   "outputs": [],
   "source": [
    "def euclidean_distance(point1: (float), point2: (float)):\n",
    "    '''\n",
    "    Returns the euclidean distance between two points\n",
    "    '''\n",
    "    return np.sqrt((point1[0]-point2[0])**2 + (point1[1]-point2[1])**2)\n",
    "\n",
    "def objective_value(route: [str], nodes: pd.DataFrame , matrix: pd.DataFrame) -> int:\n",
    "    '''\n",
    "    Calculates the objective value (Total distance) of a given TSP Solution\n",
    "    '''\n",
    "    total = 0\n",
    "    for i in range(len(route)-1):\n",
    "        total += euclidean_distance(point1 = nodes.loc[route[i], ['X', 'Y']], point2 = nodes.loc[route[i+1], ['X', 'Y']])\n",
    "    return total\n",
    "\n",
    "def generate_set(nodes: int, center: (float), std: float) -> pd.DataFrame:\n",
    "    '''\n",
    "    Generates a sample dataset using normal distribution with its distance matrix included\n",
    "    '''\n",
    "    # Establish Node 0\n",
    "    main_x = center[0]\n",
    "    main_y = center[1]\n",
    "\n",
    "    # Define Final Shape of Info\n",
    "    final_shape = (nodes+1, 2)\n",
    "    # Define Final Shape of Matrix\n",
    "    matrix_shape = (nodes+1, nodes+1)\n",
    "\n",
    "    # Generate Sample Data\n",
    "    nodesinfo = np.append(np.array(((main_x, main_y))),np.array(((np.random.normal(main_x, std, nodes), np.random.normal(main_y, std, nodes))))).T\n",
    "    nodesinfo = np.reshape(nodesinfo, final_shape)\n",
    "\n",
    "    #Generate IDs and Dataframe of Info\n",
    "    nodeslayers = [f'Node {i}' for i in range(nodes+1)]\n",
    "    nodes = pd.DataFrame(nodesinfo, index = nodeslayers, columns= ['X', 'Y'])\n",
    "\n",
    "    #Generate Distance Matrix\n",
    "\n",
    "    distance_matrix = []\n",
    "\n",
    "    for node in nodes.index:\n",
    "        distances = [euclidean_distance(point1 = nodes.loc[node, ['X', 'Y']], point2 = nodes.loc[next_node, ['X', 'Y']]) for next_node in nodes.index]\n",
    "        distance_matrix = np.append(distance_matrix, distances)\n",
    "    \n",
    "    distance_matrix = np.reshape(distance_matrix, matrix_shape)\n",
    "    distance_matrix = pd.DataFrame(distance_matrix, index = nodes.index, columns = nodes.index)\n",
    "\n",
    "        \n",
    "    \n",
    "    return nodes, distance_matrix"
   ]
  },
  {
   "attachments": {},
   "cell_type": "markdown",
   "metadata": {},
   "source": [
    "Generate sample dataset and visualize it"
   ]
  },
  {
   "cell_type": "code",
   "execution_count": null,
   "metadata": {},
   "outputs": [],
   "source": [
    "np.random.seed(2)\n",
    "nodes, matrix = generate_set(nodes = 50, center = (0,0), std = 15)\n",
    "node_distribution = plt.figure('Distribution of node network')\n",
    "plt.title('Distribution of node network')\n",
    "plt.scatter(nodes.loc['Node 0', 'X'], nodes.loc['Node 0', 'Y'], c = 'Red', label = 'Node 0')\n",
    "plt.scatter(nodes.loc['Node 1':, 'X'], nodes.loc['Node 1':,'Y'], c = 'Blue', label = 'Nodes to visit')\n",
    "plt.legend()"
   ]
  },
  {
   "attachments": {},
   "cell_type": "markdown",
   "metadata": {},
   "source": [
    "Define how initial solutions are generated"
   ]
  },
  {
   "cell_type": "code",
   "execution_count": null,
   "metadata": {},
   "outputs": [],
   "source": [
    "def random_solution(nodes: pd.DataFrame) -> [str]:\n",
    "    '''\n",
    "    Generates a Random TSP Solution for a given set of nodes\n",
    "    '''\n",
    "    route = [nodes.index[0]]\n",
    "    while len(route) < nodes.shape[0]:\n",
    "        mynode = np.random.choice(nodes.index)\n",
    "        if mynode not in route:\n",
    "            route.append(mynode)\n",
    "    route.append(nodes.index[0])\n",
    "    return route\n",
    "\n",
    "def nearest_neighbor(nodes: pd.DataFrame, matrix: pd.DataFrame) -> [str]:\n",
    "    '''\n",
    "    Generates a TSP solution for a set of nodes based in the Nearest Neighbor algorithm\n",
    "    '''\n",
    "    route = [nodes.index[0]]\n",
    "    while len(route) < nodes.shape[0]:\n",
    "        for node in nodes.index:\n",
    "            # Get the boolean mask for the routing list (Mask is a Boolean Array that matches a certain condition, like .loc conditionals)\n",
    "            mask = ~matrix.columns.isin(route)\n",
    "            if mask.any():\n",
    "                # Find the minimum distance for nodes not in the routing list\n",
    "                min_node = matrix.loc[:, route[-1]][mask].idxmin()\n",
    "                # Append the node to the routing list\n",
    "                route.append(min_node)\n",
    "    route.append(nodes.index[0])\n",
    "    return route"
   ]
  },
  {
   "attachments": {},
   "cell_type": "markdown",
   "metadata": {},
   "source": [
    "Generate initial solutions"
   ]
  },
  {
   "cell_type": "code",
   "execution_count": null,
   "metadata": {},
   "outputs": [],
   "source": [
    "random = random_solution(nodes)\n",
    "nn = nearest_neighbor(nodes, matrix)"
   ]
  },
  {
   "attachments": {},
   "cell_type": "markdown",
   "metadata": {},
   "source": [
    "Plot Initial Solutions"
   ]
  },
  {
   "cell_type": "code",
   "execution_count": null,
   "metadata": {},
   "outputs": [],
   "source": [
    "custom_plot('Random Solution', random, nodes)\n",
    "custom_plot('Nearest-Neighbor Solution', nn, nodes)"
   ]
  },
  {
   "attachments": {},
   "cell_type": "markdown",
   "metadata": {},
   "source": [
    "Define perturbation/improvement criterias"
   ]
  },
  {
   "cell_type": "code",
   "execution_count": null,
   "metadata": {},
   "outputs": [],
   "source": [
    "def twoopt(route: [str], matrix: pd.DataFrame) -> [str]:\n",
    "    '''\n",
    "    Applies 2-opt improvement if possible\n",
    "    '''\n",
    "    min_change = 0\n",
    "    for i in range(len(route)-2):\n",
    "        for j in range(i+2,len(route)-1):\n",
    "            change = matrix.loc[route[i], route[j]] + matrix.loc[route[i+1], route[j+1]]-matrix.loc[route[i], route[i+1]]-matrix.loc[route[j], route[j+1]]\n",
    "            if change < min_change:\n",
    "                min_change = change\n",
    "                min_i = i\n",
    "                min_j = j\n",
    "    if min_change < 0:\n",
    "        route[min_i+1:min_j+1] = route[min_i+1:min_j+1][::-1]\n",
    "    return route\n",
    "def random_swap(route: [str]) -> [str]:\n",
    "    '''\n",
    "    Randomly swaps two nodes in a solution (Node 0 excluded) \n",
    "    '''\n",
    "    available_nodes = range(1, len(route)-1)\n",
    "    while True:\n",
    "        first_id = np.random.choice(available_nodes)\n",
    "        second_id = np.random.choice(available_nodes)\n",
    "        if first_id != second_id:\n",
    "            break\n",
    "    first = route[first_id]\n",
    "    second = route[second_id]\n",
    "    temp = first\n",
    "    route[first_id] = second\n",
    "    route[second_id] = temp\n",
    "    return route"
   ]
  },
  {
   "attachments": {},
   "cell_type": "markdown",
   "metadata": {},
   "source": [
    "Define Metaheuristic Methods"
   ]
  },
  {
   "cell_type": "code",
   "execution_count": null,
   "metadata": {},
   "outputs": [],
   "source": [
    "def simmulated_annealing(nodes: pd.DataFrame, matrix: pd.DataFrame, route: [str], steps: int) -> [str]:\n",
    "    '''\n",
    "    Performs Simulated Annealing Metaheuristic to a given initial solution\n",
    "    '''\n",
    "    prevSol = route.copy()\n",
    "    objectives = []\n",
    "    iterations = range(1, steps+1)\n",
    "    for i in range(steps):\n",
    "        temperature = (50/np.log(i+2))\n",
    "        neighbor = prevSol.copy()\n",
    "        dynamic_plot(i+1, neighbor, nodes)\n",
    "        old = objective_value(prevSol, nodes, matrix)\n",
    "        objectives.append(old)\n",
    "        # Perturbate Solution\n",
    "        p = np.random.random()\n",
    "        if p <= 0.2:\n",
    "            neighbor = twoopt(neighbor, matrix)\n",
    "        else:\n",
    "            neighbor = random_swap(neighbor)\n",
    "        new = objective_value(neighbor, nodes, matrix)\n",
    "        if new < old:\n",
    "            prevSol = neighbor\n",
    "        else:\n",
    "            p = np.exp(-(new - old) / temperature)\n",
    "            c = np.random.random()\n",
    "            if p >= c:\n",
    "                prevSol = neighbor\n",
    "    plt.figure('Simmulated Annealing Progress')\n",
    "    plt.title('Simmulated Annealing Progress')\n",
    "    plt.plot(iterations, objectives)\n"
   ]
  },
  {
   "attachments": {},
   "cell_type": "markdown",
   "metadata": {},
   "source": [
    "Execute Simmulated Annealing based on Initial Random Solution"
   ]
  },
  {
   "cell_type": "code",
   "execution_count": null,
   "metadata": {},
   "outputs": [],
   "source": [
    "simmulated_annealing(nodes, matrix, random, 250)"
   ]
  }
 ],
 "metadata": {
  "kernelspec": {
   "display_name": "Python 3",
   "language": "python",
   "name": "python3"
  },
  "language_info": {
   "codemirror_mode": {
    "name": "ipython",
    "version": 3
   },
   "file_extension": ".py",
   "mimetype": "text/x-python",
   "name": "python",
   "nbconvert_exporter": "python",
   "pygments_lexer": "ipython3",
   "version": "3.9.13"
  },
  "orig_nbformat": 4,
  "vscode": {
   "interpreter": {
    "hash": "4a5a1a84e42dee11e513b9f0b5f707de95fb3f48de6c02354a7a016bc464dac7"
   }
  }
 },
 "nbformat": 4,
 "nbformat_minor": 2
}
